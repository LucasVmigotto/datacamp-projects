{
  "cells": [
    {
      "source": [
        "![Los Angeles skyline](https://blog.kurby.ai/wp-content/uploads/2023/07/photo-1575555201693-7cd442b8023fcropentropycstinysrgbfitmaxfmjpgixidM3w0NzY4ODZ8MHwxfHNlYXJjaHwxfHxMb3MlMjBBbmdlbGVzfGVufDB8MHx8fDE2OTA4MDQyNjR8MAixlibrb-4.0.3q80w1080.jpg)\n",
        "\n",
        "Los Angeles, California 😎. The City of Angels. Tinseltown. The Entertainment Capital of the World!\n",
        "\n",
        "Known for its warm weather, palm trees, sprawling coastline, and Hollywood, along with producing some of the most iconic films and songs. However, as with any highly populated city, it isn't always glamorous and there can be a large volume of crime. That's where you can help!\n",
        "\n",
        "You have been asked to support the Los Angeles Police Department (LAPD) by analyzing crime data to identify patterns in criminal behavior. They plan to use your insights to allocate resources effectively to tackle various crimes in different areas.\n",
        "\n",
        "## The Data\n",
        "\n",
        "They have provided you with a single dataset to use. A summary and preview are provided below.\n",
        "\n",
        "It is a modified version of the original data, which is publicly available from Los Angeles Open Data.\n",
        "\n",
        "# crimes.csv\n",
        "\n",
        "| Column     | Description              |\n",
        "|------------|--------------------------|\n",
        "| `'DR_NO'` | Division of Records Number: Official file number made up of a 2-digit year, area ID, and 5 digits. |\n",
        "| `'Date Rptd'` | Date reported - MM/DD/YYYY. |\n",
        "| `'DATE OCC'` | Date of occurrence - MM/DD/YYYY. |\n",
        "| `'TIME OCC'` | In 24-hour military time. |\n",
        "| `'AREA NAME'` | The 21 Geographic Areas or Patrol Divisions are also given a name designation that references a landmark or the surrounding community that it is responsible for. For example, the 77th Street Division is located at the intersection of South Broadway and 77th Street, serving neighborhoods in South Los Angeles. |\n",
        "| `'Crm Cd Desc'` | Indicates the crime committed. |\n",
        "| `'Vict Age'` | Victim's age in years. |\n",
        "| `'Vict Sex'` | Victim's sex: `F`: Female, `M`: Male, `X`: Unknown. |\n",
        "| `'Vict Descent'` | Victim's descent:<ul><li>`A` - Other Asian</li><li>`B` - Black</li><li>`C` - Chinese</li><li>`D` - Cambodian</li><li>`F` - Filipino</li><li>`G` - Guamanian</li><li>`H` - Hispanic/Latin/Mexican</li><li>`I` - American Indian/Alaskan Native</li><li>`J` - Japanese</li><li>`K` - Korean</li><li>`L` - Laotian</li><li>`O` - Other</li><li>`P` - Pacific Islander</li><li>`S` - Samoan</li><li>`U` - Hawaiian</li><li>`V` - Vietnamese</li><li>`W` - White</li><li>`X` - Unknown</li><li>`Z` - Asian Indian</li> |\n",
        "| `'Weapon Desc'` | Description of the weapon used (if applicable). |\n",
        "| `'Status Desc'` | Crime status. |\n",
        "| `'LOCATION'` | Street address of the crime. |"
      ],
      "metadata": {
        "id": "31ab2131-3049-4d8d-b9dc-d195f72af27a"
      },
      "id": "31ab2131-3049-4d8d-b9dc-d195f72af27a",
      "cell_type": "markdown"
    },
    {
      "source": [
        "# Re-run this cell\n",
        "# Import required libraries\n",
        "import pandas as pd\n",
        "import numpy as np\n",
        "import matplotlib.pyplot as plt\n",
        "import seaborn as sns\n",
        "\n",
        "CSV_PATH = './data/raw/crimes.csv'\n",
        "\n",
        "crimes = pd.read_csv(CSV_PATH,\n",
        "                     parse_dates=[\"Date Rptd\", \"DATE OCC\"],\n",
        "                     dtype={\"TIME OCC\": str})\n",
        "crimes.head()"
      ],
      "metadata": {
        "executionCancelledAt": null,
        "executionTime": 4364,
        "lastExecutedAt": 1692084859865,
        "lastScheduledRunId": null,
        "lastSuccessfullyExecutedCode": "# Start coding here\n# Import required libraries\nimport pandas as pd\nimport numpy as np\nimport matplotlib.pyplot as plt\nimport seaborn as sns\ncrimes = pd.read_csv(\"crimes.csv\", parse_dates=[\"Date Rptd\", \"DATE OCC\"], dtype={\"TIME OCC\": str})\ncrimes.head()",
        "outputsMetadata": {
          "0": {
            "height": 198,
            "type": "dataFrame"
          }
        },
        "colab": {
          "base_uri": "https://localhost:8080/",
          "height": 328
        },
        "id": "7c6c3c36-5c8b-4cce-8681-95292b8f0861",
        "outputId": "14ebae4b-88b2-495c-deee-1cb3dc252f9f"
      },
      "id": "7c6c3c36-5c8b-4cce-8681-95292b8f0861",
      "cell_type": "code",
      "execution_count": null,
      "outputs": [
        {
          "output_type": "execute_result",
          "data": {
            "text/plain": [
              "       DR_NO  Date Rptd   DATE OCC TIME OCC    AREA NAME  \\\n",
              "0  221412410 2022-06-15 2020-11-12     1700      Pacific   \n",
              "1  220314085 2022-07-22 2020-05-12     1110    Southwest   \n",
              "2  222013040 2022-08-06 2020-06-04     1620      Olympic   \n",
              "3  220614831 2022-08-18 2020-08-17     1200    Hollywood   \n",
              "4  231207725 2023-02-27 2020-01-27     0635  77th Street   \n",
              "\n",
              "                                       Crm Cd Desc  Vict Age Vict Sex  \\\n",
              "0  THEFT FROM MOTOR VEHICLE - PETTY ($950 & UNDER)         0      NaN   \n",
              "1                                THEFT OF IDENTITY        27        F   \n",
              "2                                THEFT OF IDENTITY        60        M   \n",
              "3                                THEFT OF IDENTITY        28        M   \n",
              "4                                THEFT OF IDENTITY        37        M   \n",
              "\n",
              "  Vict Descent Weapon Desc  Status Desc  \\\n",
              "0          NaN         NaN  Invest Cont   \n",
              "1            B         NaN  Invest Cont   \n",
              "2            H         NaN  Invest Cont   \n",
              "3            H         NaN  Invest Cont   \n",
              "4            H         NaN  Invest Cont   \n",
              "\n",
              "                                   LOCATION  \n",
              "0  13600    MARINA POINT                 DR  \n",
              "1   2500 S  SYCAMORE                     AV  \n",
              "2   3300    SAN MARINO                   ST  \n",
              "3                         1900    TRANSIENT  \n",
              "4   6200    4TH                          AV  "
            ],
            "text/html": [
              "\n",
              "  <div id=\"df-aabe2d5c-6a87-4e08-ac73-9a313768c00a\" class=\"colab-df-container\">\n",
              "    <div>\n",
              "<style scoped>\n",
              "    .dataframe tbody tr th:only-of-type {\n",
              "        vertical-align: middle;\n",
              "    }\n",
              "\n",
              "    .dataframe tbody tr th {\n",
              "        vertical-align: top;\n",
              "    }\n",
              "\n",
              "    .dataframe thead th {\n",
              "        text-align: right;\n",
              "    }\n",
              "</style>\n",
              "<table border=\"1\" class=\"dataframe\">\n",
              "  <thead>\n",
              "    <tr style=\"text-align: right;\">\n",
              "      <th></th>\n",
              "      <th>DR_NO</th>\n",
              "      <th>Date Rptd</th>\n",
              "      <th>DATE OCC</th>\n",
              "      <th>TIME OCC</th>\n",
              "      <th>AREA NAME</th>\n",
              "      <th>Crm Cd Desc</th>\n",
              "      <th>Vict Age</th>\n",
              "      <th>Vict Sex</th>\n",
              "      <th>Vict Descent</th>\n",
              "      <th>Weapon Desc</th>\n",
              "      <th>Status Desc</th>\n",
              "      <th>LOCATION</th>\n",
              "    </tr>\n",
              "  </thead>\n",
              "  <tbody>\n",
              "    <tr>\n",
              "      <th>0</th>\n",
              "      <td>221412410</td>\n",
              "      <td>2022-06-15</td>\n",
              "      <td>2020-11-12</td>\n",
              "      <td>1700</td>\n",
              "      <td>Pacific</td>\n",
              "      <td>THEFT FROM MOTOR VEHICLE - PETTY ($950 &amp; UNDER)</td>\n",
              "      <td>0</td>\n",
              "      <td>NaN</td>\n",
              "      <td>NaN</td>\n",
              "      <td>NaN</td>\n",
              "      <td>Invest Cont</td>\n",
              "      <td>13600    MARINA POINT                 DR</td>\n",
              "    </tr>\n",
              "    <tr>\n",
              "      <th>1</th>\n",
              "      <td>220314085</td>\n",
              "      <td>2022-07-22</td>\n",
              "      <td>2020-05-12</td>\n",
              "      <td>1110</td>\n",
              "      <td>Southwest</td>\n",
              "      <td>THEFT OF IDENTITY</td>\n",
              "      <td>27</td>\n",
              "      <td>F</td>\n",
              "      <td>B</td>\n",
              "      <td>NaN</td>\n",
              "      <td>Invest Cont</td>\n",
              "      <td>2500 S  SYCAMORE                     AV</td>\n",
              "    </tr>\n",
              "    <tr>\n",
              "      <th>2</th>\n",
              "      <td>222013040</td>\n",
              "      <td>2022-08-06</td>\n",
              "      <td>2020-06-04</td>\n",
              "      <td>1620</td>\n",
              "      <td>Olympic</td>\n",
              "      <td>THEFT OF IDENTITY</td>\n",
              "      <td>60</td>\n",
              "      <td>M</td>\n",
              "      <td>H</td>\n",
              "      <td>NaN</td>\n",
              "      <td>Invest Cont</td>\n",
              "      <td>3300    SAN MARINO                   ST</td>\n",
              "    </tr>\n",
              "    <tr>\n",
              "      <th>3</th>\n",
              "      <td>220614831</td>\n",
              "      <td>2022-08-18</td>\n",
              "      <td>2020-08-17</td>\n",
              "      <td>1200</td>\n",
              "      <td>Hollywood</td>\n",
              "      <td>THEFT OF IDENTITY</td>\n",
              "      <td>28</td>\n",
              "      <td>M</td>\n",
              "      <td>H</td>\n",
              "      <td>NaN</td>\n",
              "      <td>Invest Cont</td>\n",
              "      <td>1900    TRANSIENT</td>\n",
              "    </tr>\n",
              "    <tr>\n",
              "      <th>4</th>\n",
              "      <td>231207725</td>\n",
              "      <td>2023-02-27</td>\n",
              "      <td>2020-01-27</td>\n",
              "      <td>0635</td>\n",
              "      <td>77th Street</td>\n",
              "      <td>THEFT OF IDENTITY</td>\n",
              "      <td>37</td>\n",
              "      <td>M</td>\n",
              "      <td>H</td>\n",
              "      <td>NaN</td>\n",
              "      <td>Invest Cont</td>\n",
              "      <td>6200    4TH                          AV</td>\n",
              "    </tr>\n",
              "  </tbody>\n",
              "</table>\n",
              "</div>\n",
              "    <div class=\"colab-df-buttons\">\n",
              "\n",
              "  <div class=\"colab-df-container\">\n",
              "    <button class=\"colab-df-convert\" onclick=\"convertToInteractive('df-aabe2d5c-6a87-4e08-ac73-9a313768c00a')\"\n",
              "            title=\"Convert this dataframe to an interactive table.\"\n",
              "            style=\"display:none;\">\n",
              "\n",
              "  <svg xmlns=\"http://www.w3.org/2000/svg\" height=\"24px\" viewBox=\"0 -960 960 960\">\n",
              "    <path d=\"M120-120v-720h720v720H120Zm60-500h600v-160H180v160Zm220 220h160v-160H400v160Zm0 220h160v-160H400v160ZM180-400h160v-160H180v160Zm440 0h160v-160H620v160ZM180-180h160v-160H180v160Zm440 0h160v-160H620v160Z\"/>\n",
              "  </svg>\n",
              "    </button>\n",
              "\n",
              "  <style>\n",
              "    .colab-df-container {\n",
              "      display:flex;\n",
              "      gap: 12px;\n",
              "    }\n",
              "\n",
              "    .colab-df-convert {\n",
              "      background-color: #E8F0FE;\n",
              "      border: none;\n",
              "      border-radius: 50%;\n",
              "      cursor: pointer;\n",
              "      display: none;\n",
              "      fill: #1967D2;\n",
              "      height: 32px;\n",
              "      padding: 0 0 0 0;\n",
              "      width: 32px;\n",
              "    }\n",
              "\n",
              "    .colab-df-convert:hover {\n",
              "      background-color: #E2EBFA;\n",
              "      box-shadow: 0px 1px 2px rgba(60, 64, 67, 0.3), 0px 1px 3px 1px rgba(60, 64, 67, 0.15);\n",
              "      fill: #174EA6;\n",
              "    }\n",
              "\n",
              "    .colab-df-buttons div {\n",
              "      margin-bottom: 4px;\n",
              "    }\n",
              "\n",
              "    [theme=dark] .colab-df-convert {\n",
              "      background-color: #3B4455;\n",
              "      fill: #D2E3FC;\n",
              "    }\n",
              "\n",
              "    [theme=dark] .colab-df-convert:hover {\n",
              "      background-color: #434B5C;\n",
              "      box-shadow: 0px 1px 3px 1px rgba(0, 0, 0, 0.15);\n",
              "      filter: drop-shadow(0px 1px 2px rgba(0, 0, 0, 0.3));\n",
              "      fill: #FFFFFF;\n",
              "    }\n",
              "  </style>\n",
              "\n",
              "    <script>\n",
              "      const buttonEl =\n",
              "        document.querySelector('#df-aabe2d5c-6a87-4e08-ac73-9a313768c00a button.colab-df-convert');\n",
              "      buttonEl.style.display =\n",
              "        google.colab.kernel.accessAllowed ? 'block' : 'none';\n",
              "\n",
              "      async function convertToInteractive(key) {\n",
              "        const element = document.querySelector('#df-aabe2d5c-6a87-4e08-ac73-9a313768c00a');\n",
              "        const dataTable =\n",
              "          await google.colab.kernel.invokeFunction('convertToInteractive',\n",
              "                                                    [key], {});\n",
              "        if (!dataTable) return;\n",
              "\n",
              "        const docLinkHtml = 'Like what you see? Visit the ' +\n",
              "          '<a target=\"_blank\" href=https://colab.research.google.com/notebooks/data_table.ipynb>data table notebook</a>'\n",
              "          + ' to learn more about interactive tables.';\n",
              "        element.innerHTML = '';\n",
              "        dataTable['output_type'] = 'display_data';\n",
              "        await google.colab.output.renderOutput(dataTable, element);\n",
              "        const docLink = document.createElement('div');\n",
              "        docLink.innerHTML = docLinkHtml;\n",
              "        element.appendChild(docLink);\n",
              "      }\n",
              "    </script>\n",
              "  </div>\n",
              "\n",
              "\n",
              "<div id=\"df-9e40c6a9-902a-4219-8d72-94e839f041d1\">\n",
              "  <button class=\"colab-df-quickchart\" onclick=\"quickchart('df-9e40c6a9-902a-4219-8d72-94e839f041d1')\"\n",
              "            title=\"Suggest charts\"\n",
              "            style=\"display:none;\">\n",
              "\n",
              "<svg xmlns=\"http://www.w3.org/2000/svg\" height=\"24px\"viewBox=\"0 0 24 24\"\n",
              "     width=\"24px\">\n",
              "    <g>\n",
              "        <path d=\"M19 3H5c-1.1 0-2 .9-2 2v14c0 1.1.9 2 2 2h14c1.1 0 2-.9 2-2V5c0-1.1-.9-2-2-2zM9 17H7v-7h2v7zm4 0h-2V7h2v10zm4 0h-2v-4h2v4z\"/>\n",
              "    </g>\n",
              "</svg>\n",
              "  </button>\n",
              "\n",
              "<style>\n",
              "  .colab-df-quickchart {\n",
              "      --bg-color: #E8F0FE;\n",
              "      --fill-color: #1967D2;\n",
              "      --hover-bg-color: #E2EBFA;\n",
              "      --hover-fill-color: #174EA6;\n",
              "      --disabled-fill-color: #AAA;\n",
              "      --disabled-bg-color: #DDD;\n",
              "  }\n",
              "\n",
              "  [theme=dark] .colab-df-quickchart {\n",
              "      --bg-color: #3B4455;\n",
              "      --fill-color: #D2E3FC;\n",
              "      --hover-bg-color: #434B5C;\n",
              "      --hover-fill-color: #FFFFFF;\n",
              "      --disabled-bg-color: #3B4455;\n",
              "      --disabled-fill-color: #666;\n",
              "  }\n",
              "\n",
              "  .colab-df-quickchart {\n",
              "    background-color: var(--bg-color);\n",
              "    border: none;\n",
              "    border-radius: 50%;\n",
              "    cursor: pointer;\n",
              "    display: none;\n",
              "    fill: var(--fill-color);\n",
              "    height: 32px;\n",
              "    padding: 0;\n",
              "    width: 32px;\n",
              "  }\n",
              "\n",
              "  .colab-df-quickchart:hover {\n",
              "    background-color: var(--hover-bg-color);\n",
              "    box-shadow: 0 1px 2px rgba(60, 64, 67, 0.3), 0 1px 3px 1px rgba(60, 64, 67, 0.15);\n",
              "    fill: var(--button-hover-fill-color);\n",
              "  }\n",
              "\n",
              "  .colab-df-quickchart-complete:disabled,\n",
              "  .colab-df-quickchart-complete:disabled:hover {\n",
              "    background-color: var(--disabled-bg-color);\n",
              "    fill: var(--disabled-fill-color);\n",
              "    box-shadow: none;\n",
              "  }\n",
              "\n",
              "  .colab-df-spinner {\n",
              "    border: 2px solid var(--fill-color);\n",
              "    border-color: transparent;\n",
              "    border-bottom-color: var(--fill-color);\n",
              "    animation:\n",
              "      spin 1s steps(1) infinite;\n",
              "  }\n",
              "\n",
              "  @keyframes spin {\n",
              "    0% {\n",
              "      border-color: transparent;\n",
              "      border-bottom-color: var(--fill-color);\n",
              "      border-left-color: var(--fill-color);\n",
              "    }\n",
              "    20% {\n",
              "      border-color: transparent;\n",
              "      border-left-color: var(--fill-color);\n",
              "      border-top-color: var(--fill-color);\n",
              "    }\n",
              "    30% {\n",
              "      border-color: transparent;\n",
              "      border-left-color: var(--fill-color);\n",
              "      border-top-color: var(--fill-color);\n",
              "      border-right-color: var(--fill-color);\n",
              "    }\n",
              "    40% {\n",
              "      border-color: transparent;\n",
              "      border-right-color: var(--fill-color);\n",
              "      border-top-color: var(--fill-color);\n",
              "    }\n",
              "    60% {\n",
              "      border-color: transparent;\n",
              "      border-right-color: var(--fill-color);\n",
              "    }\n",
              "    80% {\n",
              "      border-color: transparent;\n",
              "      border-right-color: var(--fill-color);\n",
              "      border-bottom-color: var(--fill-color);\n",
              "    }\n",
              "    90% {\n",
              "      border-color: transparent;\n",
              "      border-bottom-color: var(--fill-color);\n",
              "    }\n",
              "  }\n",
              "</style>\n",
              "\n",
              "  <script>\n",
              "    async function quickchart(key) {\n",
              "      const quickchartButtonEl =\n",
              "        document.querySelector('#' + key + ' button');\n",
              "      quickchartButtonEl.disabled = true;  // To prevent multiple clicks.\n",
              "      quickchartButtonEl.classList.add('colab-df-spinner');\n",
              "      try {\n",
              "        const charts = await google.colab.kernel.invokeFunction(\n",
              "            'suggestCharts', [key], {});\n",
              "      } catch (error) {\n",
              "        console.error('Error during call to suggestCharts:', error);\n",
              "      }\n",
              "      quickchartButtonEl.classList.remove('colab-df-spinner');\n",
              "      quickchartButtonEl.classList.add('colab-df-quickchart-complete');\n",
              "    }\n",
              "    (() => {\n",
              "      let quickchartButtonEl =\n",
              "        document.querySelector('#df-9e40c6a9-902a-4219-8d72-94e839f041d1 button');\n",
              "      quickchartButtonEl.style.display =\n",
              "        google.colab.kernel.accessAllowed ? 'block' : 'none';\n",
              "    })();\n",
              "  </script>\n",
              "</div>\n",
              "    </div>\n",
              "  </div>\n"
            ]
          },
          "metadata": {},
          "execution_count": 2
        }
      ]
    },
    {
      "source": [
        "# Start coding here\n",
        "# Use as many cells as you need"
      ],
      "metadata": {
        "id": "8819a2fa-93f9-44bc-9a84-59bba62c0a9e"
      },
      "id": "8819a2fa-93f9-44bc-9a84-59bba62c0a9e",
      "cell_type": "code",
      "execution_count": null,
      "outputs": []
    },
    {
      "cell_type": "code",
      "source": [
        "crimes.info()"
      ],
      "metadata": {
        "colab": {
          "base_uri": "https://localhost:8080/"
        },
        "id": "sbxlDk9MrMUa",
        "outputId": "2edffe7c-ccd0-45f1-8ab6-b59614a6d825"
      },
      "id": "sbxlDk9MrMUa",
      "execution_count": null,
      "outputs": [
        {
          "output_type": "stream",
          "name": "stdout",
          "text": [
            "<class 'pandas.core.frame.DataFrame'>\n",
            "RangeIndex: 247988 entries, 0 to 247987\n",
            "Data columns (total 12 columns):\n",
            " #   Column        Non-Null Count   Dtype         \n",
            "---  ------        --------------   -----         \n",
            " 0   DR_NO         247988 non-null  int64         \n",
            " 1   Date Rptd     247988 non-null  datetime64[ns]\n",
            " 2   DATE OCC      247988 non-null  datetime64[ns]\n",
            " 3   TIME OCC      247988 non-null  object        \n",
            " 4   AREA NAME     247988 non-null  object        \n",
            " 5   Crm Cd Desc   247988 non-null  object        \n",
            " 6   Vict Age      247988 non-null  int64         \n",
            " 7   Vict Sex      215740 non-null  object        \n",
            " 8   Vict Descent  215739 non-null  object        \n",
            " 9   Weapon Desc   80087 non-null   object        \n",
            " 10  Status Desc   247988 non-null  object        \n",
            " 11  LOCATION      247988 non-null  object        \n",
            "dtypes: datetime64[ns](2), int64(2), object(8)\n",
            "memory usage: 22.7+ MB\n"
          ]
        }
      ]
    },
    {
      "cell_type": "markdown",
      "source": [
        "## Tasks"
      ],
      "metadata": {
        "id": "smKXtp4y_k5T"
      },
      "id": "smKXtp4y_k5T"
    },
    {
      "cell_type": "markdown",
      "source": [
        "### First\n",
        "\n",
        "* Which hour has the highest frequency of crimes? Store as an integer variable called `peak_crime_hour`."
      ],
      "metadata": {
        "id": "dhbFekYc_nlL"
      },
      "id": "dhbFekYc_nlL"
    },
    {
      "cell_type": "code",
      "source": [
        "peak_crime_hour = int(crimes['TIME OCC'].value_counts(normalize=True)\\\n",
        "                    .reset_index()\\\n",
        "                    .sort_values('TIME OCC', ascending=False)\\\n",
        "                    .loc[0, 'index'][:2])\n",
        "\n",
        "peak_crime_hour"
      ],
      "metadata": {
        "colab": {
          "base_uri": "https://localhost:8080/"
        },
        "id": "MhHVmYG1_pbq",
        "outputId": "bbcc067c-d892-4cb5-bcef-d484b0fccf46"
      },
      "id": "MhHVmYG1_pbq",
      "execution_count": null,
      "outputs": [
        {
          "output_type": "execute_result",
          "data": {
            "text/plain": [
              "12"
            ]
          },
          "metadata": {},
          "execution_count": 31
        }
      ]
    },
    {
      "cell_type": "markdown",
      "source": [
        "### Second\n",
        "\n",
        "* Which area has the largest frequency of night crimes (crimes committed between 10pm and 3:59am)? Save as a string variable called `peak_night_crime_location`."
      ],
      "metadata": {
        "id": "8TReGi3X_rU9"
      },
      "id": "8TReGi3X_rU9"
    },
    {
      "cell_type": "code",
      "source": [
        "peak_night_crime_location_filter = crimes['TIME OCC'].str.startswith(('22', '23', '00', '01', '04', '03'))\n",
        "\n",
        "peak_night_crime_location = crimes[peak_night_crime_location_filter]['AREA NAME']\\\n",
        "  .value_counts()\\\n",
        "  .reset_index()\\\n",
        "  .sort_values('AREA NAME', ascending=False)\\\n",
        "  .loc[0, 'index']\n",
        "\n",
        "peak_night_crime_location"
      ],
      "metadata": {
        "colab": {
          "base_uri": "https://localhost:8080/",
          "height": 35
        },
        "id": "Kaf6Pj7W_rU-",
        "outputId": "8c61c3f3-52da-4440-a828-24bebd6a8bda"
      },
      "execution_count": null,
      "outputs": [
        {
          "output_type": "execute_result",
          "data": {
            "text/plain": [
              "'Central'"
            ],
            "application/vnd.google.colaboratory.intrinsic+json": {
              "type": "string"
            }
          },
          "metadata": {},
          "execution_count": 24
        }
      ],
      "id": "Kaf6Pj7W_rU-"
    },
    {
      "cell_type": "markdown",
      "source": [
        "### Third\n",
        "\n",
        "* Identify the number of crimes committed against victims by age group (<18, 18-25, 26-34, 35-44, 45-54, 55-64, 65+). Save as a pandas Series called `victim_ages`."
      ],
      "metadata": {
        "id": "JIwiiSoB_rgt"
      },
      "id": "JIwiiSoB_rgt"
    },
    {
      "cell_type": "code",
      "source": [
        "victim_ages = pd.cut(x=crimes['Vict Age'],\n",
        "                     bins=[0, 17, 25, 34, 44, 54, 64, np.inf],\n",
        "                     labels=['<18', '18-25', '26-34', '35-44', '45-54', '55-64', '65+'],\n",
        "                     include_lowest=True).value_counts()\n",
        "\n",
        "victim_ages"
      ],
      "metadata": {
        "colab": {
          "base_uri": "https://localhost:8080/"
        },
        "id": "JuFvhTB7_rgu",
        "outputId": "6c2f5afd-4f2d-42b0-aba2-331aec69ff7c"
      },
      "execution_count": null,
      "outputs": [
        {
          "output_type": "execute_result",
          "data": {
            "text/plain": [
              "26-34    47470\n",
              "35-44    42157\n",
              "45-54    28353\n",
              "18-25    28291\n",
              "55-64    20169\n",
              "65+      14747\n",
              "<18       4528\n",
              "Name: Vict Age, dtype: int64"
            ]
          },
          "metadata": {},
          "execution_count": 34
        }
      ],
      "id": "JuFvhTB7_rgu"
    }
  ],
  "metadata": {
    "colab": {
      "provenance": []
    },
    "kernelspec": {
      "display_name": "Python 3 (ipykernel)",
      "language": "python",
      "name": "python3"
    },
    "language_info": {
      "codemirror_mode": {
        "name": "ipython",
        "version": 3
      },
      "file_extension": ".py",
      "mimetype": "text/x-python",
      "name": "python",
      "nbconvert_exporter": "python",
      "pygments_lexer": "ipython3",
      "version": "3.8.10"
    }
  },
  "nbformat": 4,
  "nbformat_minor": 5
}