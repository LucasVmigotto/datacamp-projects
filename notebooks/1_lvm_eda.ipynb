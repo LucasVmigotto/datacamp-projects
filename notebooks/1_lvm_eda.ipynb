{
  "cells": [
    {
      "cell_type": "markdown",
      "id": "937acf3c-c077-4ca6-8d90-8f6dd4d13c54",
      "metadata": {
        "id": "937acf3c-c077-4ca6-8d90-8f6dd4d13c54"
      },
      "source": [
        "![Movie popcorn on red background](https://media.istockphoto.com/id/1396537282/fr/photo/pop-corn.jpg?s=612x612&w=0&k=20&c=YSSGpAuMkcA-Eu3UyErz8O8gIzW1aSoLS6H3_e0VvwU=)"
      ]
    },
    {
      "cell_type": "markdown",
      "id": "i1W1oJgCTL2j",
      "metadata": {
        "id": "i1W1oJgCTL2j"
      },
      "source": [
        "## Introduction\n",
        "\n",
        "**Netflix**! What started in 1997 as a DVD rental service has since exploded into one of the largest entertainment and media companies.\n",
        "\n",
        "Given the large number of movies and series available on the platform, it is a perfect opportunity to flex your exploratory data analysis skills and dive into the entertainment industry. Our friend has also been brushing up on their Python skills and has taken a first crack at a CSV file containing Netflix data. They believe that the average duration of movies has been declining. Using your friends initial research, you'll delve into the Netflix data to see if you can determine whether movie lengths are actually getting shorter and explain some of the contributing factors, if any."
      ]
    },
    {
      "cell_type": "markdown",
      "id": "tqiVuWiLTWPe",
      "metadata": {
        "id": "tqiVuWiLTWPe"
      },
      "source": [
        "## Context"
      ]
    },
    {
      "cell_type": "markdown",
      "id": "mMtj-NTDSP7h",
      "metadata": {
        "id": "mMtj-NTDSP7h"
      },
      "source": [
        "Your friend suspects that movies are getting shorter and they've found some initial evidence of this. Having peaked your interest, you will perform exploratory data analysis on the `netflix_data.csv` data to understand what may be contributing to movies getting shorter over time. Your analysis will follow these steps:\n",
        "\n",
        "1. Load the CSV file and store as `netflix_df`.\n",
        "2. Filter the data to remove TV shows and store as `netflix_subset`.\n",
        "3. Investigate the Netflix movie data, keeping only the columns \"`title`\", \"`country`\", \"`genre`\", \"`release_year`\", \"`duration`\", and saving this into a new DataFrame called `netflix_movies`.\n",
        "4. Filter netflix_movies to find the movies that are shorter than 60 minutes, saving the resulting DataFrame as `short_movies`; inspect the result to find possible contributing factors.\n",
        "5. Using a for loop and `if/elif` statements, iterate through the rows of `netflix_movies` and assign colors of your choice to four genre groups (\"`Children`\", \"`Documentaries`\", \"`Stand-Up`\", and \"`Other`\" for everything else). Save the results in a colors list. Initialize a figure object called fig and create a scatter plot for movie duration by release year using the colors list to color the points and using the labels \"`Release year`\" for the x-axis, \"`Duration (min)`\" for the y-axis, and the title \"`Movie Duration by Year of Release`\".\n",
        "6. After inspecting the plot, answer the question \"Are we certain that movies are getting shorter?\" by assigning either \"`yes`\", \"`no`\", or \"`maybe`\" to the variable answer.\n",
        "7. Click the \"Submit Project\" button to check your solution."
      ]
    },
    {
      "cell_type": "markdown",
      "id": "9rpQUYxRTUEX",
      "metadata": {
        "id": "9rpQUYxRTUEX"
      },
      "source": [
        "## The data"
      ]
    },
    {
      "cell_type": "markdown",
      "id": "5962b2cd-17bb-4ec9-b2d5-68537ca26860",
      "metadata": {
        "id": "5962b2cd-17bb-4ec9-b2d5-68537ca26860"
      },
      "source": [
        "You have been supplied with the dataset `netflix_data.csv` , along with the following table detailing the column names and descriptions:\n",
        "\n",
        "* **netflix_data.csv**\n",
        "\n",
        "| Column | Description |\n",
        "|--------|-------------|\n",
        "| `show_id` | The ID of the show |\n",
        "| `type` | Type of show |\n",
        "| `title` | Title of the show |\n",
        "| `director` | Director of the show |\n",
        "| `cast` | Cast of the show |\n",
        "| `country` | Country of origin |\n",
        "| `date_added` | Date added to Netflix |\n",
        "| `release_year` | Year of Netflix release |\n",
        "| `duration` | Duration of the show in minutes |\n",
        "| `description` | Description of the show |\n",
        "| `genre` | Show genre |"
      ]
    },
    {
      "cell_type": "code",
      "execution_count": null,
      "id": "320a3abc-8a36-4b2b-baaf-473325363a4d",
      "metadata": {
        "executionTime": 12,
        "id": "320a3abc-8a36-4b2b-baaf-473325363a4d",
        "lastSuccessfullyExecutedCode": "# Importing pandas and matplotlib\nimport pandas as pd\nimport matplotlib.pyplot as plt\n\n# Start coding!"
      },
      "outputs": [],
      "source": [
        "# Importing pandas and matplotlib\n",
        "import pandas as pd\n",
        "import matplotlib.pyplot as plt\n",
        "\n",
        "# Start coding!\n",
        "netflix_df = pd.read_csv('./data/raw/netflix_data.csv')\n",
        "netflix_df.head()"
      ]
    }
  ],
  "metadata": {
    "colab": {
      "provenance": []
    },
    "kernelspec": {
      "display_name": "Python 3 (ipykernel)",
      "language": "python",
      "name": "python3"
    },
    "language_info": {
      "codemirror_mode": {
        "name": "ipython",
        "version": 3
      },
      "file_extension": ".py",
      "mimetype": "text/x-python",
      "name": "python",
      "nbconvert_exporter": "python",
      "pygments_lexer": "ipython3",
      "version": "3.8.10"
    }
  },
  "nbformat": 4,
  "nbformat_minor": 5
}
