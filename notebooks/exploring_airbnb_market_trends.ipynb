{
  "cells": [
    {
      "source": [
        "![NYC Skyline](https://images.squarespace-cdn.com/content/v1/6064c5f1a7ce8b46dd82ae87/1617737600791-5FQHO9AIJGG4Y3P4GV4A/80068-New-York-City-skyline-panorama--by-jan-becke.jpg)\n",
        "\n",
        "Welcome to New York City, one of the most-visited cities in the world. There are many Airbnb listings in New York City to meet the high demand for temporary lodging for travelers, which can be anywhere between a few nights to many months. In this project, we will take a closer look at the New York Airbnb market by combining data from multiple file types like `.csv`, `.tsv`, and `.xlsx`.\n",
        "\n",
        "Recall that **CSV**, **TSV**, and **Excel** files are three common formats for storing data.\n",
        "Three files containing data on 2019 Airbnb listings are available to you:\n",
        "\n",
        "**data/airbnb_price.csv**\n",
        "This is a CSV file containing data on Airbnb listing prices and locations.\n",
        "- **`listing_id`**: unique identifier of listing\n",
        "- **`price`**: nightly listing price in USD\n",
        "- **`nbhood_full`**: name of borough and neighborhood where listing is located\n",
        "\n",
        "**data/airbnb_room_type.xlsx**\n",
        "This is an Excel file containing data on Airbnb listing descriptions and room types.\n",
        "- **`listing_id`**: unique identifier of listing\n",
        "- **`description`**: listing description\n",
        "- **`room_type`**: Airbnb has three types of rooms: shared rooms, private rooms, and entire homes/apartments\n",
        "\n",
        "**data/airbnb_last_review.tsv**\n",
        "This is a TSV file containing data on Airbnb host names and review dates.\n",
        "- **`listing_id`**: unique identifier of listing\n",
        "- **`host_name`**: name of listing host\n",
        "- **`last_review`**: date when the listing was last reviewed"
      ],
      "metadata": {
        "id": "c747d469-ee97-4b95-880f-feefd5456042"
      },
      "id": "c747d469-ee97-4b95-880f-feefd5456042",
      "cell_type": "markdown"
    },
    {
      "source": [
        "# We've loaded your first package for you! You can add as many cells as you need.\n",
        "import numpy as np\n",
        "import pandas as pd\n",
        "\n",
        "# Begin coding here ...\n",
        "\n",
        "CSV_BASE_PATH = './data/raw/'\n",
        "\n",
        "CSV_PATHS = {\n",
        "    'last_review': CSV_BASE_PATH + 'airbnb_last_review.tsv',\n",
        "    'price': CSV_BASE_PATH + 'airbnb_price.csv',\n",
        "    'room_type': CSV_BASE_PATH + 'airbnb_room_type.xlsx',\n",
        "}"
      ],
      "metadata": {
        "executionTime": 190,
        "lastSuccessfullyExecutedCode": "# We've loaded your first package for you! You can add as many cells as you need.\nimport numpy as np\n",
        "id": "1fdc5784-479e-46cb-b05b-68439dcc94a7"
      },
      "id": "1fdc5784-479e-46cb-b05b-68439dcc94a7",
      "cell_type": "code",
      "execution_count": 2,
      "outputs": []
    },
    {
      "cell_type": "code",
      "source": [
        "df_review = pd.read_csv(CSV_PATHS['last_review'],\n",
        "                        sep='\\t',\n",
        "                        parse_dates=['last_review'],\n",
        "                        infer_datetime_format=True)\n",
        "\n",
        "df_review.head()"
      ],
      "metadata": {
        "id": "fUYLTyyj0p34"
      },
      "id": "fUYLTyyj0p34",
      "execution_count": null,
      "outputs": []
    },
    {
      "cell_type": "code",
      "source": [
        "df_price = pd.read_csv(CSV_PATHS['price'])\n",
        "\n",
        "df_price['price'] = df_price['price'].str.extract(r'(\\d+)')\\\n",
        "                        .astype(np.float64)\n",
        "\n",
        "df_price.head()"
      ],
      "metadata": {
        "id": "bkO3Dnpp0sUL"
      },
      "id": "bkO3Dnpp0sUL",
      "execution_count": null,
      "outputs": []
    },
    {
      "cell_type": "code",
      "source": [
        "df_room = pd.read_excel(CSV_PATHS['room_type'])\n",
        "\n",
        "df_room.head()"
      ],
      "metadata": {
        "id": "kizSL0P20ua3"
      },
      "id": "kizSL0P20ua3",
      "execution_count": null,
      "outputs": []
    },
    {
      "cell_type": "markdown",
      "source": [
        "## Tasks"
      ],
      "metadata": {
        "id": "wWGuLjzsQabj"
      },
      "id": "wWGuLjzsQabj"
    },
    {
      "cell_type": "markdown",
      "source": [
        "### First\n",
        "\n",
        "* What are the dates of the earliest and most recent reviews? Store these values as two separate variables with your preferred names."
      ],
      "metadata": {
        "id": "-HW_3VicQckv"
      },
      "id": "-HW_3VicQckv"
    },
    {
      "cell_type": "code",
      "source": [
        "first_reviewed = df_review['last_review'].min()\n",
        "\n",
        "last_reviewed = df_review['last_review'].max()\n",
        "\n",
        "print(first_reviewed)\n",
        "print(last_reviewed)"
      ],
      "metadata": {
        "id": "9qJ9rzVPQdxb"
      },
      "id": "9qJ9rzVPQdxb",
      "execution_count": null,
      "outputs": []
    },
    {
      "cell_type": "markdown",
      "source": [
        "### Second\n",
        "\n",
        "* How many of the listings are private rooms? Save this into any variable."
      ],
      "metadata": {
        "id": "7aQUwrZmQgtZ"
      },
      "id": "7aQUwrZmQgtZ"
    },
    {
      "cell_type": "code",
      "source": [
        "df_room['room_type'] = df_room['room_type'].str.lower()\n",
        "\n",
        "nb_private_rooms = df_room[df_room['room_type'] == 'private room'].shape[0]\n",
        "\n",
        "nb_private_rooms"
      ],
      "metadata": {
        "id": "fbbgp2L_Qgta"
      },
      "execution_count": null,
      "outputs": [],
      "id": "fbbgp2L_Qgta"
    },
    {
      "cell_type": "markdown",
      "source": [
        "### Third\n",
        "\n",
        "* What is the average listing price? Round to the nearest penny and save into a variable."
      ],
      "metadata": {
        "id": "xmyjayRcQgx7"
      },
      "id": "xmyjayRcQgx7"
    },
    {
      "cell_type": "code",
      "source": [
        "avg_price = np.round(np.mean(df_price['price']), 2)\n",
        "\n",
        "avg_price"
      ],
      "metadata": {
        "id": "J6bmamxzQgx8"
      },
      "execution_count": null,
      "outputs": [],
      "id": "J6bmamxzQgx8"
    },
    {
      "cell_type": "markdown",
      "source": [
        "### Fourth\n",
        "\n",
        "* Combine the new variables into one DataFrame called `review_dates` with four columns in the following order: `first_reviewed`, `last_reviewed`, `nb_private_rooms`, and `avg_price`. The DataFrame should only contain one row of values."
      ],
      "metadata": {
        "id": "PCCEQXNeQg1Y"
      },
      "id": "PCCEQXNeQg1Y"
    },
    {
      "cell_type": "code",
      "source": [
        "review_dates = pd.DataFrame(\n",
        "    [[first_reviewed, last_reviewed, nb_private_rooms, avg_price]],\n",
        "    columns=['first_reviewed', 'last_reviewed', 'nb_private_rooms', 'avg_price']\n",
        ")\n",
        "\n",
        "review_dates"
      ],
      "metadata": {
        "id": "Ms8uKAnlQg1Z"
      },
      "execution_count": null,
      "outputs": [],
      "id": "Ms8uKAnlQg1Z"
    }
  ],
  "metadata": {
    "colab": {
      "provenance": []
    },
    "kernelspec": {
      "display_name": "Python 3 (ipykernel)",
      "language": "python",
      "name": "python3"
    },
    "language_info": {
      "codemirror_mode": {
        "name": "ipython",
        "version": 3
      },
      "file_extension": ".py",
      "mimetype": "text/x-python",
      "name": "python",
      "nbconvert_exporter": "python",
      "pygments_lexer": "ipython3",
      "version": "3.8.10"
    }
  },
  "nbformat": 4,
  "nbformat_minor": 5
}